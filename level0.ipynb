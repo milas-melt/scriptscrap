{
 "cells": [
  {
   "cell_type": "markdown",
   "id": "ebbc6063",
   "metadata": {},
   "source": [
    "Aim: create an algo that translates udacity scripts into readable text.\n",
    "\n",
    "\n",
    "Extended targets: \n",
    "\n",
    "lvl 1: Input folder instead of text file\n",
    "\n",
    "lvl 2: Input zip file instead of folder\n",
    "\n",
    "lvl 3: Input many zip files\n",
    "\n",
    "lvl 4: No input - web scrapping\n",
    "\n",
    "Current achievements: Nothing."
   ]
  },
  {
   "cell_type": "markdown",
   "id": "c016e56b",
   "metadata": {},
   "source": [
    "code target: current target achieved. \n"
   ]
  },
  {
   "cell_type": "code",
   "execution_count": 35,
   "id": "a652f806",
   "metadata": {},
   "outputs": [],
   "source": [
    "import os\n",
    "\"\"\"\n",
    "WARNING! import os first\n",
    "\n",
    "Aim: create an algo that translates udacity scripts into readable text\n",
    "\n",
    "Input: path_to_file file\n",
    "Output: new .txt file\n",
    "\n",
    "note: generic text sequence of udacity scripts:\n",
    "# nb - t - s - n - nb - t - s - n - nb - t - s\n",
    "# 2 - 6 - 10 ... --> str_idx = 2+4n\n",
    "\n",
    "level 0 preparation step:\n",
    "rename folder to title with no space\n",
    "rename files to <file nb> + '.txt'\n",
    "accept all the changes (can only accept individually atm)\n",
    "create a new folder to store new translate files (with a name relevant to part of the course)\n",
    "\"\"\"\n",
    "\n",
    "def translate_source_txt_transcript_into_readable_txt_transcript(path_to_file, name_of_new_folder, name_of_new_file):\n",
    "    \n",
    "    ## OS and path naming logic\n",
    "    save_path = '/Users/salimtlemcani/Desktop/Work/blog/AI_for_trading/scrap'\n",
    "    #name_of_file = input(\"What is the name of the file: \")\n",
    "    completeName = os.path.join(save_path, name_of_new_folder, name_of_new_file+\".txt\") \n",
    "    \n",
    "    ## instantiate writing list\n",
    "    new = []\n",
    "    \n",
    "    ## open translation file\n",
    "    with open(path_to_file, 'r') as transcript:\n",
    "        transcript_lines = transcript.readlines()\n",
    "    \n",
    "    ## scan translation file\n",
    "    for i in range(len(transcript_lines)):\n",
    "        if ((i-2)%4==0)&(i>=2):\n",
    "            new.append(transcript_lines[i])\n",
    "    \n",
    "    ## create and write new file\n",
    "    with open(completeName, \"w\") as translation:\n",
    "        translation.writelines(\"%s\" % data for data in new)\n",
    "    \n",
    "    \n",
    "    ## closes files automatically with the with as keywords.\n",
    "    print('done')"
   ]
  },
  {
   "cell_type": "code",
   "execution_count": 50,
   "id": "9d06bd53",
   "metadata": {},
   "outputs": [
    {
     "name": "stdout",
     "output_type": "stream",
     "text": [
      "done\n"
     ]
    }
   ],
   "source": [
    "\n",
    "import os\n",
    "\n",
    "## TO MODIFY:\n",
    "# Fetch file to scrap\n",
    "filename_toscrap = 'MarketMechanics' # TO MODIFY as str\n",
    "filenb_toscrap = '10' # TO MODIFY as str\n",
    "# Store new file\n",
    "part = 'MarketMechanics'\n",
    "section_nb = '10'\n",
    "name_of_new_folder = 'market mechanics'\n",
    "\n",
    "\n",
    "## DONT MODIFY\n",
    "path_to_general_folder = '/Users/salimtlemcani/Desktop/Work/blog/AI_for_trading/' \n",
    "path_to_file = path_to_general_folder + filename_toscrap + '/' + filenb_toscrap +'.txt' \n",
    "name_of_new_file = part + section_nb\n",
    "translate_source_txt_transcript_into_readable_txt_transcript(path_to_file, name_of_new_folder, name_of_new_file)"
   ]
  }
 ],
 "metadata": {
  "kernelspec": {
   "display_name": "Python 3",
   "language": "python",
   "name": "python3"
  },
  "language_info": {
   "codemirror_mode": {
    "name": "ipython",
    "version": 3
   },
   "file_extension": ".py",
   "mimetype": "text/x-python",
   "name": "python",
   "nbconvert_exporter": "python",
   "pygments_lexer": "ipython3",
   "version": "3.8.8"
  }
 },
 "nbformat": 4,
 "nbformat_minor": 5
}
