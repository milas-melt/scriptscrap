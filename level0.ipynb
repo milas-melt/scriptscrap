{
 "cells": [
  {
   "cell_type": "markdown",
   "id": "ebbc6063",
   "metadata": {},
   "source": [
    "Aim: create an algo that translates udacity scripts into readable text.\n",
    "\n",
    "\n",
    "Extended targets: \n",
    "\n",
    "lvl 1: Input folder instead of text file\n",
    "\n",
    "lvl 2: Input zip file instead of folder\n",
    "\n",
    "lvl 3: Input many zip files\n",
    "\n",
    "lvl 4: No input - web scrapping\n",
    "\n",
    "Current achievements: Nothing."
   ]
  },
  {
   "cell_type": "markdown",
   "id": "c016e56b",
   "metadata": {},
   "source": [
    "code target: current target achieved. \n"
   ]
  },
  {
   "cell_type": "code",
   "execution_count": 1,
   "id": "612cd009",
   "metadata": {},
   "outputs": [],
   "source": [
    "import os\n"
   ]
  },
  {
   "cell_type": "code",
   "execution_count": 80,
   "id": "a652f806",
   "metadata": {},
   "outputs": [],
   "source": [
    "\"\"\"\n",
    "WARNING! import os first\n",
    "\n",
    "Aim: create an algo that translates udacity scripts into readable text\n",
    "\n",
    "Input: path_to_file file\n",
    "Output: new .txt file\n",
    "\n",
    "note: generic text sequence of udacity scripts:\n",
    "# nb - t - s - n - nb - t - s - n - nb - t - s\n",
    "# 2 - 6 - 10 ... --> str_idx = 2+4n\n",
    "\"\"\"\n",
    "\n",
    "def translate_source_txt_transcript_into_readable_txt_transcript(path_to_file):\n",
    "    \n",
    "    ## OS and path naming logic\n",
    "    save_path = '/Users/salimtlemcani/Desktop/Work/blog/AI for trading/translate'\n",
    "    name_of_file = input(\"What is the name of the file: \")\n",
    "    #name_of_file = 'testingTranslate'\n",
    "    completeName = os.path.join(save_path, name_of_file+\".txt\") \n",
    "    \n",
    "    ## instantiate writing list\n",
    "    new = []\n",
    "    \n",
    "    ## open translation file\n",
    "    with open(path_to_file, 'r') as transcript:\n",
    "        transcript_lines = transcript.readlines()\n",
    "    \n",
    "    ## scan translation file\n",
    "    for i in range(len(transcript_lines)):\n",
    "        if ((i-2)%4==0)&(i>=2):\n",
    "            new.append(transcript_lines[i])\n",
    "    print(new)\n",
    "    \n",
    "    ## create and write new file\n",
    "    with open(completeName, \"w\") as translation:\n",
    "        translation.writelines(\"%s\" % data for data in new)\n",
    "    \n",
    "    \n",
    "    ## closes files automatically with the with as keywords.\n",
    "    return"
   ]
  },
  {
   "cell_type": "code",
   "execution_count": 81,
   "id": "9d06bd53",
   "metadata": {},
   "outputs": [
    {
     "name": "stdout",
     "output_type": "stream",
     "text": [
      "What is the name of the file: ontest\n",
      "['Welcome back. In this lesson,\\n', \"we're going to discuss common sources of Outliers,\\n\", 'a few ways to spot them and some methods you can use to handle them.\\n', 'Outliers can be a real nuisance.\\n', 'If not handled intelligently,\\n', 'they can make results look better than they really are.\\n', 'They can lead to false trading signals which when used to\\n', 'construct trading strategies result in profits and losses that at best,\\n', 'differ from simulation results and at worst, are completely negative.\\n', \"We don't want that, so let's see what we can do about Outliers.\\n\"]\n"
     ]
    }
   ],
   "source": [
    "\n",
    "translate_source_txt_transcript_into_readable_txt_transcript('/Users/salimtlemcani/Downloads/Outliers+and+Filtering+Subtitles/1 - M2L2 01 Intro V1 - lang_en.txt')\n"
   ]
  },
  {
   "cell_type": "code",
   "execution_count": null,
   "id": "0164f385",
   "metadata": {},
   "outputs": [],
   "source": []
  },
  {
   "cell_type": "code",
   "execution_count": null,
   "id": "b11395ce",
   "metadata": {},
   "outputs": [],
   "source": []
  }
 ],
 "metadata": {
  "kernelspec": {
   "display_name": "Python 3",
   "language": "python",
   "name": "python3"
  },
  "language_info": {
   "codemirror_mode": {
    "name": "ipython",
    "version": 3
   },
   "file_extension": ".py",
   "mimetype": "text/x-python",
   "name": "python",
   "nbconvert_exporter": "python",
   "pygments_lexer": "ipython3",
   "version": "3.8.8"
  }
 },
 "nbformat": 4,
 "nbformat_minor": 5
}
